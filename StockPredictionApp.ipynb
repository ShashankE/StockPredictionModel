{
 "cells": [
  {
   "cell_type": "code",
   "execution_count": null,
   "metadata": {},
   "outputs": [],
   "source": [
    "import pandas as pd\n",
    "import numpy as np\n",
    "import yfinance as yf\n",
    "from sklearn.preprocessing import MinMaxScaler\n",
    "from keras.models import Sequential\n",
    "from keras.layers import Dense, LSTM\n",
    "from sklearn.metrics import mean_absolute_error\n",
    "import matplotlib.pyplot as plt\n",
    "\n",
    "# Define the tickers to fetch data for\n",
    "tickers = ['AAPL', 'GOOGL', 'MSFT', 'TSLA', 'NVDA', 'ADBE', 'INTC', 'CSCO', 'IBM']\n",
    "\n",
    "# Fetch data for each ticker using Yahoo Finance API\n",
    "data = {}\n",
    "for ticker in tickers:\n",
    "    stock = yf.Ticker(ticker)\n",
    "    data[ticker] = stock.history(period='5 years')['Close']\n",
    "\n",
    "# Combine data for all stocks into a single dataset\n",
    "df = pd.concat(data.values(), axis=1, keys=data.keys())\n",
    "\n",
    "df"
   ]
  },
  {
   "cell_type": "code",
   "execution_count": null,
   "metadata": {},
   "outputs": [],
   "source": [
    "\n",
    "# scale the data\n",
    "scaler = MinMaxScaler(feature_range=(0,1))\n",
    "scaled_data = scaler.fit_transform(df.values.reshape(-1,1))\n",
    "\n",
    "# split the data into training and testing sets\n",
    "train_size = int(len(scaled_data) * 0.8)\n",
    "train_data = scaled_data[:train_size]\n",
    "test_data = scaled_data[train_size:]\n"
   ]
  },
  {
   "cell_type": "code",
   "execution_count": null,
   "metadata": {},
   "outputs": [],
   "source": [
    "# create input/output arrays for training and testing data\n",
    "def create_dataset(data, lookback):\n",
    "    X, Y = [], []\n",
    "    for i in range(lookback, len(data)):\n",
    "        X.append(data[i-lookback:i, 0])\n",
    "        Y.append(data[i, 0])\n",
    "    return np.array(X), np.array(Y)\n",
    "\n",
    "lookback = 60\n",
    "x_train, y_train = create_dataset(train_data, lookback)\n",
    "x_test, y_test = create_dataset(test_data, lookback)\n"
   ]
  },
  {
   "cell_type": "code",
   "execution_count": null,
   "metadata": {},
   "outputs": [],
   "source": [
    "\n",
    "# Build Model\n",
    "model = Sequential() \n",
    "model.add(LSTM(50, return_sequences=True, input_shape=(lookback, 1)))\n",
    "model.add(LSTM(50, return_sequences=False))\n",
    "model.add(Dense(25))\n",
    "model.add(Dense(1))\n",
    "\n",
    "# compile the model\n",
    "model.compile(optimizer='adam', loss='mean_squared_error')\n",
    "\n",
    "# train the model\n",
    "model.fit(x_train, y_train, batch_size=1, epochs=1)\n"
   ]
  },
  {
   "cell_type": "code",
   "execution_count": null,
   "metadata": {},
   "outputs": [],
   "source": [
    "\n",
    "# make predictions and evaluate performance\n",
    "predictions = model.predict(x_test)\n",
    "predictions = scaler.inverse_transform(predictions)\n",
    "mae = mean_absolute_error(y_test, predictions)\n",
    "print('Mean Absolute Error:', mae)\n",
    "\n",
    "# pickle data\n",
    "model.save(\"lstm_model\")\n"
   ]
  },
  {
   "cell_type": "code",
   "execution_count": null,
   "metadata": {},
   "outputs": [],
   "source": [
    "\n",
    "last_60_days = data[-60:].values\n",
    "last_60_days_scaled = scaler.transform(last_60_days)\n",
    "X_test = np.array(last_60_days_scaled)\n",
    "X_test = np.reshape(X_test, (1, X_test.shape[0], X_test.shape[1])) # modify this line\n",
    "predicted_price = model.predict(X_test)\n",
    "predicted_price = scaler.inverse_transform(predicted_price)\n",
    "print('Next day\\'s predicted stock price:', predicted_price)"
   ]
  },
  {
   "cell_type": "code",
   "execution_count": null,
   "metadata": {},
   "outputs": [],
   "source": [
    "plt.plot(y_test, label=True)\n",
    "plt.plot(predictions, label=\"LSTM Value\")\n",
    "plt.plot(predicted_price, label=\"Predicted Price Value\")\n",
    "plt.title(\"Prediction by LSTM\")\n",
    "plt.xlabel(\"Time Scale\")\n",
    "plt.ylabel(\"USD\")\n",
    "plt.legend()\n",
    "plt.show()"
   ]
  }
 ],
 "metadata": {
  "language_info": {
   "name": "python"
  },
  "orig_nbformat": 4
 },
 "nbformat": 4,
 "nbformat_minor": 2
}
